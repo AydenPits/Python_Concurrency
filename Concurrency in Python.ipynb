{
 "cells": [
  {
   "cell_type": "markdown",
   "metadata": {},
   "source": [
    "13.1"
   ]
  },
  {
   "cell_type": "code",
   "execution_count": 11,
   "metadata": {},
   "outputs": [],
   "source": [
    "import time\n",
    "\n",
    "now = time.time()\n",
    "time.ctime(now)\n",
    "file = open('today.txt', 'a')\n",
    "file.write(time.ctime(now))\n",
    "file.close()\n"
   ]
  },
  {
   "cell_type": "markdown",
   "metadata": {},
   "source": [
    "13.2"
   ]
  },
  {
   "cell_type": "code",
   "execution_count": 17,
   "metadata": {},
   "outputs": [
    {
     "name": "stdout",
     "output_type": "stream",
     "text": [
      "Wed Dec  7 18:39:06 2022\n"
     ]
    }
   ],
   "source": [
    "with open('today.txt', 'r')as file:\n",
    "    today_string = file.read().replace('\\n', '')\n",
    "    print(today_string)"
   ]
  },
  {
   "cell_type": "markdown",
   "metadata": {},
   "source": [
    "13.3"
   ]
  },
  {
   "cell_type": "code",
   "execution_count": 25,
   "metadata": {},
   "outputs": [
    {
     "name": "stdout",
     "output_type": "stream",
     "text": [
      "['Wed', 'Dec', '7', '18:39:06', '2022']\n"
     ]
    }
   ],
   "source": [
    "new_string=today_string.split()\n",
    "\n",
    "print(new_string)\n"
   ]
  },
  {
   "cell_type": "markdown",
   "metadata": {},
   "source": [
    "15.1"
   ]
  },
  {
   "cell_type": "code",
   "execution_count": 82,
   "metadata": {},
   "outputs": [
    {
     "name": "stdout",
     "output_type": "stream",
     "text": [
      "I'm main, in process 19496\n",
      "20:54:50\n",
      "20:54:50\n",
      "20:54:50\n"
     ]
    }
   ],
   "source": [
    "import multiprocessing\n",
    "from datetime import datetime\n",
    "import os\n",
    "import time\n",
    "import random\n",
    "\n",
    "now = datetime.now()\n",
    "ctime = now.strftime(\"%H:%M:%S\")\n",
    "\n",
    "def whoami(name):\n",
    "    print(\"I'm %s, in process %s\" % (name, os.getpid()))\n",
    "\n",
    "def current_time(name):\n",
    "    whoami(name)\n",
    "    for num in range(1, 4):\n",
    "        print(str(ctime))\n",
    "        time.sleep(random.randrange(0, 1))\n",
    "\n",
    "if __name__==\"__main__\":\n",
    "    current_time(\"main\")\n",
    "    p = multiprocessing.Process(target=current_time, args=(\"current_time\",))\n",
    "    p.start()\n",
    "    time.sleep(3)\n",
    "    p.terminate()\n",
    "\n",
    "\n"
   ]
  }
 ],
 "metadata": {
  "kernelspec": {
   "display_name": "Python 3.10.8 64-bit (microsoft store)",
   "language": "python",
   "name": "python3"
  },
  "language_info": {
   "codemirror_mode": {
    "name": "ipython",
    "version": 3
   },
   "file_extension": ".py",
   "mimetype": "text/x-python",
   "name": "python",
   "nbconvert_exporter": "python",
   "pygments_lexer": "ipython3",
   "version": "3.10.8"
  },
  "orig_nbformat": 4,
  "vscode": {
   "interpreter": {
    "hash": "bb11ed172502466d714f440f01099a84240a38da1952ffd18dc1886544b573fb"
   }
  }
 },
 "nbformat": 4,
 "nbformat_minor": 2
}
